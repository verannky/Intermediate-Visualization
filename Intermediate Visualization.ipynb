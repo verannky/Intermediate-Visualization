{
  "nbformat": 4,
  "nbformat_minor": 0,
  "metadata": {
    "colab": {
      "name": "Nunky Febilia Verany_HW_Intermediate Visualization.ipynb",
      "provenance": []
    },
    "kernelspec": {
      "name": "python3",
      "display_name": "Python 3"
    },
    "language_info": {
      "name": "python"
    }
  },
  "cells": [
    {
      "cell_type": "code",
      "metadata": {
        "id": "Gq2601ZXkUz_"
      },
      "source": [
        "import pandas as pd\n",
        "import matplotlib.pyplot as plt\n",
        "import numpy as np\n",
        "import seaborn as sns"
      ],
      "execution_count": 4,
      "outputs": []
    },
    {
      "cell_type": "markdown",
      "metadata": {
        "id": "KrQvh-D0ld4K"
      },
      "source": [
        "read data"
      ]
    },
    {
      "cell_type": "code",
      "metadata": {
        "colab": {
          "base_uri": "https://localhost:8080/",
          "height": 309
        },
        "id": "YBBc0EIYlfP7",
        "outputId": "9ebda99e-2ac0-405e-a6b9-b9bb269f4476"
      },
      "source": [
        "data = pd.read_csv('/content/WA_Fn-UseC_-Telco-Customer-Churn.csv')\n",
        "data.head()"
      ],
      "execution_count": 5,
      "outputs": [
        {
          "output_type": "execute_result",
          "data": {
            "text/html": [
              "<div>\n",
              "<style scoped>\n",
              "    .dataframe tbody tr th:only-of-type {\n",
              "        vertical-align: middle;\n",
              "    }\n",
              "\n",
              "    .dataframe tbody tr th {\n",
              "        vertical-align: top;\n",
              "    }\n",
              "\n",
              "    .dataframe thead th {\n",
              "        text-align: right;\n",
              "    }\n",
              "</style>\n",
              "<table border=\"1\" class=\"dataframe\">\n",
              "  <thead>\n",
              "    <tr style=\"text-align: right;\">\n",
              "      <th></th>\n",
              "      <th>customerID</th>\n",
              "      <th>gender</th>\n",
              "      <th>SeniorCitizen</th>\n",
              "      <th>Partner</th>\n",
              "      <th>Dependents</th>\n",
              "      <th>tenure</th>\n",
              "      <th>PhoneService</th>\n",
              "      <th>MultipleLines</th>\n",
              "      <th>InternetService</th>\n",
              "      <th>OnlineSecurity</th>\n",
              "      <th>OnlineBackup</th>\n",
              "      <th>DeviceProtection</th>\n",
              "      <th>TechSupport</th>\n",
              "      <th>StreamingTV</th>\n",
              "      <th>StreamingMovies</th>\n",
              "      <th>Contract</th>\n",
              "      <th>PaperlessBilling</th>\n",
              "      <th>PaymentMethod</th>\n",
              "      <th>MonthlyCharges</th>\n",
              "      <th>TotalCharges</th>\n",
              "      <th>Churn</th>\n",
              "    </tr>\n",
              "  </thead>\n",
              "  <tbody>\n",
              "    <tr>\n",
              "      <th>0</th>\n",
              "      <td>7590-VHVEG</td>\n",
              "      <td>Female</td>\n",
              "      <td>0</td>\n",
              "      <td>Yes</td>\n",
              "      <td>No</td>\n",
              "      <td>1</td>\n",
              "      <td>No</td>\n",
              "      <td>No phone service</td>\n",
              "      <td>DSL</td>\n",
              "      <td>No</td>\n",
              "      <td>Yes</td>\n",
              "      <td>No</td>\n",
              "      <td>No</td>\n",
              "      <td>No</td>\n",
              "      <td>No</td>\n",
              "      <td>Month-to-month</td>\n",
              "      <td>Yes</td>\n",
              "      <td>Electronic check</td>\n",
              "      <td>29.85</td>\n",
              "      <td>29.85</td>\n",
              "      <td>No</td>\n",
              "    </tr>\n",
              "    <tr>\n",
              "      <th>1</th>\n",
              "      <td>5575-GNVDE</td>\n",
              "      <td>Male</td>\n",
              "      <td>0</td>\n",
              "      <td>No</td>\n",
              "      <td>No</td>\n",
              "      <td>34</td>\n",
              "      <td>Yes</td>\n",
              "      <td>No</td>\n",
              "      <td>DSL</td>\n",
              "      <td>Yes</td>\n",
              "      <td>No</td>\n",
              "      <td>Yes</td>\n",
              "      <td>No</td>\n",
              "      <td>No</td>\n",
              "      <td>No</td>\n",
              "      <td>One year</td>\n",
              "      <td>No</td>\n",
              "      <td>Mailed check</td>\n",
              "      <td>56.95</td>\n",
              "      <td>1889.5</td>\n",
              "      <td>No</td>\n",
              "    </tr>\n",
              "    <tr>\n",
              "      <th>2</th>\n",
              "      <td>3668-QPYBK</td>\n",
              "      <td>Male</td>\n",
              "      <td>0</td>\n",
              "      <td>No</td>\n",
              "      <td>No</td>\n",
              "      <td>2</td>\n",
              "      <td>Yes</td>\n",
              "      <td>No</td>\n",
              "      <td>DSL</td>\n",
              "      <td>Yes</td>\n",
              "      <td>Yes</td>\n",
              "      <td>No</td>\n",
              "      <td>No</td>\n",
              "      <td>No</td>\n",
              "      <td>No</td>\n",
              "      <td>Month-to-month</td>\n",
              "      <td>Yes</td>\n",
              "      <td>Mailed check</td>\n",
              "      <td>53.85</td>\n",
              "      <td>108.15</td>\n",
              "      <td>Yes</td>\n",
              "    </tr>\n",
              "    <tr>\n",
              "      <th>3</th>\n",
              "      <td>7795-CFOCW</td>\n",
              "      <td>Male</td>\n",
              "      <td>0</td>\n",
              "      <td>No</td>\n",
              "      <td>No</td>\n",
              "      <td>45</td>\n",
              "      <td>No</td>\n",
              "      <td>No phone service</td>\n",
              "      <td>DSL</td>\n",
              "      <td>Yes</td>\n",
              "      <td>No</td>\n",
              "      <td>Yes</td>\n",
              "      <td>Yes</td>\n",
              "      <td>No</td>\n",
              "      <td>No</td>\n",
              "      <td>One year</td>\n",
              "      <td>No</td>\n",
              "      <td>Bank transfer (automatic)</td>\n",
              "      <td>42.30</td>\n",
              "      <td>1840.75</td>\n",
              "      <td>No</td>\n",
              "    </tr>\n",
              "    <tr>\n",
              "      <th>4</th>\n",
              "      <td>9237-HQITU</td>\n",
              "      <td>Female</td>\n",
              "      <td>0</td>\n",
              "      <td>No</td>\n",
              "      <td>No</td>\n",
              "      <td>2</td>\n",
              "      <td>Yes</td>\n",
              "      <td>No</td>\n",
              "      <td>Fiber optic</td>\n",
              "      <td>No</td>\n",
              "      <td>No</td>\n",
              "      <td>No</td>\n",
              "      <td>No</td>\n",
              "      <td>No</td>\n",
              "      <td>No</td>\n",
              "      <td>Month-to-month</td>\n",
              "      <td>Yes</td>\n",
              "      <td>Electronic check</td>\n",
              "      <td>70.70</td>\n",
              "      <td>151.65</td>\n",
              "      <td>Yes</td>\n",
              "    </tr>\n",
              "  </tbody>\n",
              "</table>\n",
              "</div>"
            ],
            "text/plain": [
              "   customerID  gender  SeniorCitizen  ... MonthlyCharges TotalCharges  Churn\n",
              "0  7590-VHVEG  Female              0  ...          29.85        29.85     No\n",
              "1  5575-GNVDE    Male              0  ...          56.95       1889.5     No\n",
              "2  3668-QPYBK    Male              0  ...          53.85       108.15    Yes\n",
              "3  7795-CFOCW    Male              0  ...          42.30      1840.75     No\n",
              "4  9237-HQITU  Female              0  ...          70.70       151.65    Yes\n",
              "\n",
              "[5 rows x 21 columns]"
            ]
          },
          "metadata": {},
          "execution_count": 5
        }
      ]
    },
    {
      "cell_type": "markdown",
      "metadata": {
        "id": "I-z7augYlNOW"
      },
      "source": [
        "1) Dalam rata-rata, payment method mana yang memiliki monthly charge terbesar per customernya?\n",
        "\n",
        "Hint:\n",
        "Gunakan groupby payment method terhadap monthly charge dengan aggregate function rata-rata"
      ]
    },
    {
      "cell_type": "code",
      "metadata": {
        "colab": {
          "base_uri": "https://localhost:8080/"
        },
        "id": "A0KAh5_9lY1e",
        "outputId": "2fa946f6-6312-44c4-cc81-c0ec644a9aca"
      },
      "source": [
        "mean_monthly = data.groupby(by=\"PaymentMethod\")[\"MonthlyCharges\"].mean()\n",
        "mean_monthly"
      ],
      "execution_count": 6,
      "outputs": [
        {
          "output_type": "execute_result",
          "data": {
            "text/plain": [
              "PaymentMethod\n",
              "Bank transfer (automatic)    67.192649\n",
              "Credit card (automatic)      66.512385\n",
              "Electronic check             76.255814\n",
              "Mailed check                 43.917060\n",
              "Name: MonthlyCharges, dtype: float64"
            ]
          },
          "metadata": {},
          "execution_count": 6
        }
      ]
    },
    {
      "cell_type": "code",
      "metadata": {
        "colab": {
          "base_uri": "https://localhost:8080/",
          "height": 35
        },
        "id": "KnVojYvelytv",
        "outputId": "30831c99-416f-497e-a53f-47ea9d41f111"
      },
      "source": [
        "max_value = mean_monthly.idxmax()\n",
        "max_value"
      ],
      "execution_count": 7,
      "outputs": [
        {
          "output_type": "execute_result",
          "data": {
            "application/vnd.google.colaboratory.intrinsic+json": {
              "type": "string"
            },
            "text/plain": [
              "'Electronic check'"
            ]
          },
          "metadata": {},
          "execution_count": 7
        }
      ]
    },
    {
      "cell_type": "code",
      "metadata": {
        "colab": {
          "base_uri": "https://localhost:8080/",
          "height": 419
        },
        "id": "8btZ1O59l1MJ",
        "outputId": "d8cee790-ff74-4987-c9ee-ee97886bae1d"
      },
      "source": [
        "mean_monthly.plot(kind = 'bar')"
      ],
      "execution_count": 8,
      "outputs": [
        {
          "output_type": "execute_result",
          "data": {
            "text/plain": [
              "<matplotlib.axes._subplots.AxesSubplot at 0x7f6eacb4de50>"
            ]
          },
          "metadata": {},
          "execution_count": 8
        },
        {
          "output_type": "display_data",
          "data": {
            "image/png": "[encoded data removed]",
            "text/plain": [
              "<Figure size 432x288 with 1 Axes>"
            ]
          },
          "metadata": {
            "needs_background": "light"
          }
        }
      ]
    },
    {
      "cell_type": "markdown",
      "metadata": {
        "id": "hns5Ri4ol5Tw"
      },
      "source": [
        "Dari hasil bar chart yang didapatkan dapat dianalisis bahwa rata - rata payment method terbesar berdasarkan monthly charges adalah pada electronic check."
      ]
    },
    {
      "cell_type": "markdown",
      "metadata": {
        "id": "d5lXif5CmRWF"
      },
      "source": [
        "2) Bagaimana jumlah customer dilihat dari tenure group?\n",
        "\n",
        "Tenure group:\n",
        "- low_tenure: User dengan tenure < 21 bulan\n",
        "- medium_tenure: User dengan tenure 21 - 40 bulan\n",
        "- high_tenure: User dengan tenure > 40 bulan\n",
        "\n",
        "\n",
        "Hint:\n",
        "- Memotong data integer menjadi group categorical dapat menggunakan beberapa macam cara, contohnya dengan numpy.where atau pandas.cut\n",
        "- Mirip dengan plot pertama, namun ini menghitung jumlah unique users"
      ]
    },
    {
      "cell_type": "code",
      "metadata": {
        "colab": {
          "base_uri": "https://localhost:8080/"
        },
        "id": "a3vgJniumH7N",
        "outputId": "8311e165-2d9a-4569-d23c-174edd326ade"
      },
      "source": [
        "tenure = data['tenure']\n",
        "tenure.max()"
      ],
      "execution_count": 9,
      "outputs": [
        {
          "output_type": "execute_result",
          "data": {
            "text/plain": [
              "72"
            ]
          },
          "metadata": {},
          "execution_count": 9
        }
      ]
    },
    {
      "cell_type": "code",
      "metadata": {
        "colab": {
          "base_uri": "https://localhost:8080/"
        },
        "id": "rHybXSYommr-",
        "outputId": "462a8a7d-8f50-43a9-c711-430ec81f1afb"
      },
      "source": [
        "data['status'] = pd.cut(x=data['tenure'],bins =[0,20,40,73],labels=['low_tenure','medium_tenure','high_tenure'])\n",
        "data['status']"
      ],
      "execution_count": 10,
      "outputs": [
        {
          "output_type": "execute_result",
          "data": {
            "text/plain": [
              "0          low_tenure\n",
              "1       medium_tenure\n",
              "2          low_tenure\n",
              "3         high_tenure\n",
              "4          low_tenure\n",
              "            ...      \n",
              "7038    medium_tenure\n",
              "7039      high_tenure\n",
              "7040       low_tenure\n",
              "7041       low_tenure\n",
              "7042      high_tenure\n",
              "Name: status, Length: 7043, dtype: category\n",
              "Categories (3, object): ['low_tenure' < 'medium_tenure' < 'high_tenure']"
            ]
          },
          "metadata": {},
          "execution_count": 10
        }
      ]
    },
    {
      "cell_type": "code",
      "metadata": {
        "colab": {
          "base_uri": "https://localhost:8080/"
        },
        "id": "D1hpPkmcmp5m",
        "outputId": "67f45abf-889e-45d0-b4f3-ed73865591c5"
      },
      "source": [
        "data.groupby(by='status')['tenure'].agg('count')"
      ],
      "execution_count": 11,
      "outputs": [
        {
          "output_type": "execute_result",
          "data": {
            "text/plain": [
              "status\n",
              "low_tenure       2867\n",
              "medium_tenure    1408\n",
              "high_tenure      2757\n",
              "Name: tenure, dtype: int64"
            ]
          },
          "metadata": {},
          "execution_count": 11
        }
      ]
    },
    {
      "cell_type": "code",
      "metadata": {
        "colab": {
          "base_uri": "https://localhost:8080/",
          "height": 386
        },
        "id": "-A0VfbctmrCV",
        "outputId": "ac0d23fc-b377-4f67-d670-9083755da45e"
      },
      "source": [
        "sns.catplot(x='status',kind='count',data=data)"
      ],
      "execution_count": 12,
      "outputs": [
        {
          "output_type": "execute_result",
          "data": {
            "text/plain": [
              "<seaborn.axisgrid.FacetGrid at 0x7f6eacaaad10>"
            ]
          },
          "metadata": {},
          "execution_count": 12
        },
        {
          "output_type": "display_data",
          "data": {
            "image/png": "[encoded data removed]",
            "text/plain": [
              "<Figure size 360x360 with 1 Axes>"
            ]
          },
          "metadata": {
            "needs_background": "light"
          }
        }
      ]
    },
    {
      "cell_type": "markdown",
      "metadata": {
        "id": "uS6F2Ohfmz3N"
      },
      "source": [
        "Dari hasil bar chart yang didapatkan dapat dianalisis bahwa jumlah tertinggi status adalah low tenure dan jumlah terendah status adalah medium tenure."
      ]
    },
    {
      "cell_type": "markdown",
      "metadata": {
        "id": "JCMGLHDwmW5k"
      },
      "source": [
        "3) Apakah kebanyakan dari Senior Citizen berlangganan PhoneService?\n",
        "\n",
        "\n",
        "Hint:\n",
        "- Dapat menggunakan feature/input parameter hue pada seaborn\n",
        "- Dalam menghitung jumlah unique customer, jangan lupa\n",
        "perhatikan angka rasio, tidak hanya angka absolutnya"
      ]
    },
    {
      "cell_type": "code",
      "metadata": {
        "colab": {
          "base_uri": "https://localhost:8080/",
          "height": 386
        },
        "id": "X-yASqYEmc89",
        "outputId": "752f11e8-a727-4866-fbd1-c6212bec7358"
      },
      "source": [
        "sns.catplot(x='SeniorCitizen', hue='PhoneService',kind='count',data=data)"
      ],
      "execution_count": 13,
      "outputs": [
        {
          "output_type": "execute_result",
          "data": {
            "text/plain": [
              "<seaborn.axisgrid.FacetGrid at 0x7f6eac585750>"
            ]
          },
          "metadata": {},
          "execution_count": 13
        },
        {
          "output_type": "display_data",
          "data": {
            "image/png": "[encoded data removed]",
            "text/plain": [
              "<Figure size 435.75x360 with 1 Axes>"
            ]
          },
          "metadata": {
            "needs_background": "light"
          }
        }
      ]
    },
    {
      "cell_type": "markdown",
      "metadata": {
        "id": "lBZv8gQWnRza"
      },
      "source": [
        "Dari hasil bar chart yang didapatkan dapat dianalisis bahwa senior citizen kebanyakn berlangganan phone service"
      ]
    },
    {
      "cell_type": "markdown",
      "metadata": {
        "id": "_g-S3RPDmdGQ"
      },
      "source": [
        "Bagaimana Distribusi dari TotalCharge?\n",
        "\n",
        "\n",
        "Hint:\n",
        "- Ubah datatype TotalCharge dari object ke int atau float\n",
        "- Buat distribusi plot!"
      ]
    },
    {
      "cell_type": "code",
      "metadata": {
        "colab": {
          "base_uri": "https://localhost:8080/"
        },
        "id": "P-PmM6qdmicx",
        "outputId": "aede0bb1-90a8-4e2f-f124-63849c69ffbf"
      },
      "source": [
        "data['TotalCharges'] = pd.to_numeric(data['TotalCharges'], errors='coerce')\n",
        "data.dtypes"
      ],
      "execution_count": 14,
      "outputs": [
        {
          "output_type": "execute_result",
          "data": {
            "text/plain": [
              "customerID            object\n",
              "gender                object\n",
              "SeniorCitizen          int64\n",
              "Partner               object\n",
              "Dependents            object\n",
              "tenure                 int64\n",
              "PhoneService          object\n",
              "MultipleLines         object\n",
              "InternetService       object\n",
              "OnlineSecurity        object\n",
              "OnlineBackup          object\n",
              "DeviceProtection      object\n",
              "TechSupport           object\n",
              "StreamingTV           object\n",
              "StreamingMovies       object\n",
              "Contract              object\n",
              "PaperlessBilling      object\n",
              "PaymentMethod         object\n",
              "MonthlyCharges       float64\n",
              "TotalCharges         float64\n",
              "Churn                 object\n",
              "status              category\n",
              "dtype: object"
            ]
          },
          "metadata": {},
          "execution_count": 14
        }
      ]
    },
    {
      "cell_type": "code",
      "metadata": {
        "colab": {
          "base_uri": "https://localhost:8080/",
          "height": 282
        },
        "id": "HFl0htUKni9R",
        "outputId": "70748616-e022-4af5-f5aa-73f024409586"
      },
      "source": [
        "data['TotalCharges'].plot(kind='hist')"
      ],
      "execution_count": 15,
      "outputs": [
        {
          "output_type": "execute_result",
          "data": {
            "text/plain": [
              "<matplotlib.axes._subplots.AxesSubplot at 0x7f6ea4555b90>"
            ]
          },
          "metadata": {},
          "execution_count": 15
        },
        {
          "output_type": "display_data",
          "data": {
            "image/png": "[encoded data removed]",
            "text/plain": [
              "<Figure size 432x288 with 1 Axes>"
            ]
          },
          "metadata": {
            "needs_background": "light"
          }
        }
      ]
    }
  ]
}